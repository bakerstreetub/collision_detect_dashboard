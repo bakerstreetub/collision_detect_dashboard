{
 "cells": [
  {
   "cell_type": "code",
   "execution_count": 2,
   "metadata": {},
   "outputs": [
    {
     "data": {
      "text/html": [
       "<iframe id=\"igraph\" scrolling=\"no\" style=\"border:none;\" seamless=\"seamless\" src=\"https://plot.ly/~jerryant/27.embed\" height=\"260px\" width=\"100%\"></iframe>"
      ],
      "text/plain": [
       "<plotly.tools.PlotlyDisplay object>"
      ]
     },
     "execution_count": 2,
     "metadata": {},
     "output_type": "execute_result"
    }
   ],
   "source": [
    "import plotly.plotly as py\n",
    "import plotly.figure_factory as ff\n",
    "\n",
    "data_matrix = [['G0 X4545.345 Y45.345 ', 'Collision/No-collision'],\n",
    "               ['G0 X4545.311 Y45.345', 'No'],\n",
    "               ['G0 X4565.323 Y45.345', 'No'],\n",
    "               ['G0 X4454.344 Y45.345', 'Yes'],\n",
    "               ['G0 X4214.386 Y45.345', 'No'],\n",
    "               ['G0 X1245.387 Y45.345', 'Yes'],\n",
    "               ['G0 X7645.311 Y45.345', 'No']]\n",
    "\n",
    "table = ff.create_table(data_matrix)\n",
    "url_table = py.plot(table, filename='simple_table')\n",
    "py.iplot(table, filename='simple_table')"
   ]
  },
  {
   "cell_type": "code",
   "execution_count": null,
   "metadata": {},
   "outputs": [],
   "source": [
    "import plotly.plotly as py\n",
    "import plotly.tools as tls\n",
    "from plotly.graph_objs import *\n",
    "import numpy as np \n",
    "import datetime\n",
    "import time\n",
    "\n",
    "\n",
    "stream_id = 'i83gzt2cr7'\n",
    "stream = Stream(\n",
    "    token=stream_id,\n",
    "    maxpoints=500\n",
    ")\n",
    "\n",
    "trace1 = Scatter(\n",
    "    x=[],\n",
    "    y=[],\n",
    "    mode='lines+markers',\n",
    "    stream=stream         # (!) embed stream id, 1 per trace\n",
    ")\n",
    "\n",
    "data = Data([trace1])\n",
    "\n",
    "labels = [' ', ' ', ' ', 'Collision']\n",
    "\n",
    "layout = Layout(\n",
    "    title='FPGA feedback',\n",
    "    xaxis=dict(\n",
    "        autorange=True,\n",
    "    ),\n",
    "    yaxis=dict(\n",
    "        autorange=False,\n",
    "        range=[-1, 4],\n",
    "        ticks=\"\",\n",
    "        showticklabels=True,\n",
    "        ticktext=labels,\n",
    "        tickvals=[i for i in range(len(labels))]\n",
    "    ),\n",
    ")\n",
    "fig = Figure(data=data, layout=layout)\n",
    "unique_url = py.plot(fig, filename='s7_first-stream')\n",
    "\n",
    "s = py.Stream(stream_id)\n",
    "s.open()\n",
    "\n",
    "\n",
    "\n",
    "i = 0    # a counter\n",
    "k = 5    # some shape parameter\n",
    "N = 2000  # number of points to be plotted\n",
    "\n",
    "# Delay start of stream by 5 sec (time to switch tabs)\n",
    "time.sleep(5)\n",
    "\n",
    "while True:\n",
    "    x = datetime.datetime.now().strftime('%Y-%m-%d %H:%M:%S.%f')\n",
    "    y = (np.cos(k*i/50.)*np.cos(i/50.)+np.random.randn(1))[0]\n",
    "    s.write(dict(x=x, y=y))\n",
    "    time.sleep(0.08)\n",
    "\n",
    "s.close()"
   ]
  },
  {
   "cell_type": "code",
   "execution_count": null,
   "metadata": {
    "collapsed": true
   },
   "outputs": [],
   "source": []
  },
  {
   "cell_type": "code",
   "execution_count": null,
   "metadata": {
    "collapsed": true
   },
   "outputs": [],
   "source": []
  }
 ],
 "metadata": {
  "kernelspec": {
   "display_name": "Python 3",
   "language": "python",
   "name": "python3"
  },
  "language_info": {
   "codemirror_mode": {
    "name": "ipython",
    "version": 3
   },
   "file_extension": ".py",
   "mimetype": "text/x-python",
   "name": "python",
   "nbconvert_exporter": "python",
   "pygments_lexer": "ipython3",
   "version": "3.6.0"
  }
 },
 "nbformat": 4,
 "nbformat_minor": 2
}
