{
 "cells": [
  {
   "cell_type": "code",
   "execution_count": 1,
   "metadata": {
    "collapsed": true
   },
   "outputs": [],
   "source": [
    "import plotly"
   ]
  },
  {
   "cell_type": "code",
   "execution_count": 3,
   "metadata": {},
   "outputs": [
    {
     "data": {
      "text/html": [
       "<iframe id=\"igraph\" scrolling=\"no\" style=\"border:none;\" seamless=\"seamless\" src=\"https://plot.ly/~jerryant/27.embed\" height=\"260px\" width=\"100%\"></iframe>"
      ],
      "text/plain": [
       "<plotly.tools.PlotlyDisplay object>"
      ]
     },
     "execution_count": 3,
     "metadata": {},
     "output_type": "execute_result"
    }
   ],
   "source": [
    "import plotly.plotly as py\n",
    "import plotly.figure_factory as ff\n",
    "\n",
    "data_matrix = [['G-code ', 'Collision/No-collision'],\n",
    "               ['G0 X4545.311 Y45.345', 'No'],\n",
    "               ['G0 X4565.323 Y45.345', 'No'],\n",
    "               ['G0 X4454.344 Y45.345', 'Yes'],\n",
    "               ['G0 X4214.386 Y45.345', 'No'],\n",
    "               ['G0 X1245.387 Y45.345', 'Yes'],\n",
    "               ['G0 X7645.311 Y45.345', 'No']]\n",
    "\n",
    "table = ff.create_table(data_matrix)\n",
    "url_table = py.plot(table, filename='simple_table')\n",
    "py.iplot(table, filename='simple_table')\n",
    "\n",
    "data_matrix = [['G-code ', 'Collision/No-collision'],\n",
    "               ['G0 X4545.311 Y45.345', 'No'],\n",
    "               ['G0 X4565.323 Y45.345', 'No'],\n",
    "               ['G0 X3454.344 Y45.345', 'Yes'],\n",
    "               ['G0 X3214.386 Y45.345', 'No'],\n",
    "               ['G0 X3245.387 Y45.345', 'Yes'],\n",
    "               ['G0 X3645.311 Y45.345', 'No']]\n",
    "table = ff.create_table(data_matrix)\n",
    "url_table = py.plot(table, filename='simple_table', fileopt='append')\n",
    "py.iplot(table, filename='simple_table')"
   ]
  },
  {
   "cell_type": "code",
   "execution_count": null,
   "metadata": {
    "collapsed": true
   },
   "outputs": [],
   "source": []
  }
 ],
 "metadata": {
  "kernelspec": {
   "display_name": "Python 3",
   "language": "python",
   "name": "python3"
  },
  "language_info": {
   "codemirror_mode": {
    "name": "ipython",
    "version": 3
   },
   "file_extension": ".py",
   "mimetype": "text/x-python",
   "name": "python",
   "nbconvert_exporter": "python",
   "pygments_lexer": "ipython3",
   "version": "3.6.0"
  }
 },
 "nbformat": 4,
 "nbformat_minor": 1
}
