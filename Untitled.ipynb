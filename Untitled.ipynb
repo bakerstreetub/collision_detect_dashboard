{
 "cells": [
  {
   "cell_type": "code",
   "execution_count": 20,
   "metadata": {},
   "outputs": [
    {
     "data": {
      "text/html": [
       "\n",
       "<!DOCTYPE HTML>\n",
       "<html>\n",
       "  <head>\n",
       "    <style>\n",
       "      body {\n",
       "        margin: 0px;\n",
       "        padding: 0px;\n",
       "      }\n",
       "    </style>\n",
       "  </head>\n",
       "  <body>\n",
       "    <canvas id=\"myCanvas\" width=\"400\" height=\"400\"></canvas>\n",
       "    <script>\n",
       "      var canvas = document.getElementById('myCanvas');\n",
       "      var context = canvas.getContext('2d');\n",
       "      <!-- Dashboard -->\n",
       "      context.beginPath();\n",
       "      context.rect(0, 0, 400, 400);\n",
       "      context.lineWidth = 2;\n",
       "      context.strokeStyle = 'black';\n",
       "      context.stroke();\n",
       "      </script>\n",
       "  </body>\n",
       "</html>\n"
      ],
      "text/plain": [
       "<IPython.core.display.HTML object>"
      ]
     },
     "execution_count": 20,
     "metadata": {},
     "output_type": "execute_result"
    }
   ],
   "source": [
    "import plotly.dashboard_objs as dashboard\n",
    "\n",
    "import IPython.display\n",
    "from IPython.display import Image\n",
    "\n",
    "my_dboard = dashboard.Dashboard()\n",
    "my_dboard.get_preview()"
   ]
  },
  {
   "cell_type": "code",
   "execution_count": 31,
   "metadata": {
    "collapsed": true
   },
   "outputs": [],
   "source": [
    "import plotly.graph_objs as go\n",
    "import plotly.plotly as py\n",
    "\n",
    "import numpy as np\n",
    "\n",
    "url_1 = 'https://plot.ly/~jerryant/18'\n",
    "url_2 = 'https://plot.ly/~jerryant/25'"
   ]
  },
  {
   "cell_type": "code",
   "execution_count": 32,
   "metadata": {
    "collapsed": true
   },
   "outputs": [],
   "source": [
    "def fileId_from_url(url):\n",
    "    \"\"\"Return fileId from a url.\"\"\"\n",
    "    index = url.find('~')\n",
    "    fileId = url[index + 1:]\n",
    "    local_id_index = fileId.find('/')\n",
    "\n",
    "    share_key_index = fileId.find('?share_key')\n",
    "    if share_key_index == -1:\n",
    "        return fileId.replace('/', ':')\n",
    "    else:\n",
    "        return fileId[:share_key_index].replace('/', ':')\n",
    "\n",
    "def sharekey_from_url(url):\n",
    "    \"\"\"Return the sharekey from a url.\"\"\"\n",
    "    index = url.find('share_key=')\n",
    "    return url[index + len('share_key='):]\n",
    "\n",
    "fileId_1 = fileId_from_url(url_1)\n",
    "fileId_2 = fileId_from_url(url_2)\n"
   ]
  },
  {
   "cell_type": "code",
   "execution_count": 28,
   "metadata": {},
   "outputs": [
    {
     "data": {
      "text/html": [
       "\n",
       "<!DOCTYPE HTML>\n",
       "<html>\n",
       "  <head>\n",
       "    <style>\n",
       "      body {\n",
       "        margin: 0px;\n",
       "        padding: 0px;\n",
       "      }\n",
       "    </style>\n",
       "  </head>\n",
       "  <body>\n",
       "    <canvas id=\"myCanvas\" width=\"400\" height=\"400\"></canvas>\n",
       "    <script>\n",
       "      var canvas = document.getElementById('myCanvas');\n",
       "      var context = canvas.getContext('2d');\n",
       "      <!-- Dashboard -->\n",
       "      context.beginPath();\n",
       "      context.rect(0, 0, 400, 400);\n",
       "      context.lineWidth = 2;\n",
       "      context.strokeStyle = 'black';\n",
       "      context.stroke();\n",
       "     <!-- Draw some lines in -->\n",
       "          context.beginPath();\n",
       "          context.rect(200.0, 0, 1, 400);\n",
       "          context.lineWidth = 1;\n",
       "          context.strokeStyle = 'black';\n",
       "          context.stroke();\n",
       "    <!-- Insert box numbers -->\n",
       "          context.font = '10pt Times New Roman';\n",
       "          context.textAlign = 'center';\n",
       "          context.fillText(1, 0 + 0.5*200.0, 0 + 0.5*400);\n",
       "    <!-- Insert box numbers -->\n",
       "          context.font = '10pt Times New Roman';\n",
       "          context.textAlign = 'center';\n",
       "          context.fillText(2, 200.0 + 0.5*200.0, 0 + 0.5*400);\n",
       "     </script>\n",
       "  </body>\n",
       "</html>\n"
      ],
      "text/plain": [
       "<IPython.core.display.HTML object>"
      ]
     },
     "execution_count": 28,
     "metadata": {},
     "output_type": "execute_result"
    }
   ],
   "source": [
    "my_dboard.get_preview()"
   ]
  },
  {
   "cell_type": "code",
   "execution_count": 24,
   "metadata": {
    "collapsed": true
   },
   "outputs": [],
   "source": [
    "my_dboard['settings']['foregroundColor'] = '#000000'\n",
    "my_dboard['settings']['backgroundColor'] = '#adcaea'\n",
    "my_dboard['settings']['headerForegroundColor'] = '#ffffff'\n",
    "my_dboard['settings']['headerBackgroundColor'] = '#D232C8'\n",
    "my_dboard['settings']['boxBackgroundColor'] = '#ffffff'\n",
    "my_dboard['settings']['boxBorderColor'] = '#000000'\n",
    "my_dboard['settings']['boxHeaderBackgroundColor'] = '#ffffff'"
   ]
  },
  {
   "cell_type": "code",
   "execution_count": 33,
   "metadata": {},
   "outputs": [
    {
     "ename": "PlotlyRequestError",
     "evalue": "{u'direction': u'vertical', u'sizeUnit': u'px', u'second': {u'boxType': u'empty', u'type': u'box'}, u'size': 1000, u'type': u'split', u'first': {u'direction': u'horizontal', u'sizeUnit': u'%', u'second': {u'boxType': u'plot', u'title': u'Collision or no collision streaming data', u'type': u'box', u'text': u'jerryant:25#plot'}, u'size': 50, u'type': u'split', u'first': {u'boxType': u'plot', u'title': u'3D Model Printing Progress', u'type': u'box', u'fileId': u'jerryant:18.embed'}}} is not valid under any of the given schemas\n\nFailed validating 'oneOf' in schema['properties']['layout']:\n    {'oneOf': [{'type': 'null'}, {'$ref': '#/definitions/container'}]}\n\nOn instance['layout']:\n    {u'direction': u'vertical',\n     u'first': {u'direction': u'horizontal',\n                u'first': {u'boxType': u'plot',\n                           u'fileId': u'jerryant:18.embed',\n                           u'title': u'3D Model Printing Progress',\n                           u'type': u'box'},\n                u'second': {u'boxType': u'plot',\n                            u'text': u'jerryant:25#plot',\n                            u'title': u'Collision or no collision streaming data',\n                            u'type': u'box'},\n                u'size': 50,\n                u'sizeUnit': u'%',\n                u'type': u'split'},\n     u'second': {u'boxType': u'empty', u'type': u'box'},\n     u'size': 1000,\n     u'sizeUnit': u'px',\n     u'type': u'split'}",
     "output_type": "error",
     "traceback": [
      "\u001b[0;31m---------------------------------------------------------------------------\u001b[0m",
      "\u001b[0;31mPlotlyRequestError\u001b[0m                        Traceback (most recent call last)",
      "\u001b[0;32mC:\\Users\\Jerry Ajay\\AppData\\Local\\Programs\\Python\\Python36-32\\lib\\site-packages\\plotly\\plotly\\plotly.py\u001b[0m in \u001b[0;36mupload\u001b[0;34m(cls, dashboard, filename, sharing, auto_open)\u001b[0m\n\u001b[1;32m   1443\u001b[0m         \u001b[1;32mtry\u001b[0m\u001b[1;33m:\u001b[0m\u001b[1;33m\u001b[0m\u001b[0m\n\u001b[0;32m-> 1444\u001b[0;31m             \u001b[0mlookup_res\u001b[0m \u001b[1;33m=\u001b[0m \u001b[0mv2\u001b[0m\u001b[1;33m.\u001b[0m\u001b[0mfiles\u001b[0m\u001b[1;33m.\u001b[0m\u001b[0mlookup\u001b[0m\u001b[1;33m(\u001b[0m\u001b[0mfilename\u001b[0m\u001b[1;33m)\u001b[0m\u001b[1;33m\u001b[0m\u001b[0m\n\u001b[0m\u001b[1;32m   1445\u001b[0m             \u001b[0mmatching_file\u001b[0m \u001b[1;33m=\u001b[0m \u001b[0mjson\u001b[0m\u001b[1;33m.\u001b[0m\u001b[0mloads\u001b[0m\u001b[1;33m(\u001b[0m\u001b[0mlookup_res\u001b[0m\u001b[1;33m.\u001b[0m\u001b[0mcontent\u001b[0m\u001b[1;33m)\u001b[0m\u001b[1;33m\u001b[0m\u001b[0m\n",
      "\u001b[0;32mC:\\Users\\Jerry Ajay\\AppData\\Local\\Programs\\Python\\Python36-32\\lib\\site-packages\\plotly\\api\\v2\\files.py\u001b[0m in \u001b[0;36mlookup\u001b[0;34m(path, parent, user, exists)\u001b[0m\n\u001b[1;32m     84\u001b[0m     \u001b[0mparams\u001b[0m \u001b[1;33m=\u001b[0m \u001b[0mmake_params\u001b[0m\u001b[1;33m(\u001b[0m\u001b[0mpath\u001b[0m\u001b[1;33m=\u001b[0m\u001b[0mpath\u001b[0m\u001b[1;33m,\u001b[0m \u001b[0mparent\u001b[0m\u001b[1;33m=\u001b[0m\u001b[0mparent\u001b[0m\u001b[1;33m,\u001b[0m \u001b[0muser\u001b[0m\u001b[1;33m=\u001b[0m\u001b[0muser\u001b[0m\u001b[1;33m,\u001b[0m \u001b[0mexists\u001b[0m\u001b[1;33m=\u001b[0m\u001b[0mexists\u001b[0m\u001b[1;33m)\u001b[0m\u001b[1;33m\u001b[0m\u001b[0m\n\u001b[0;32m---> 85\u001b[0;31m     \u001b[1;32mreturn\u001b[0m \u001b[0mrequest\u001b[0m\u001b[1;33m(\u001b[0m\u001b[1;34m'get'\u001b[0m\u001b[1;33m,\u001b[0m \u001b[0murl\u001b[0m\u001b[1;33m,\u001b[0m \u001b[0mparams\u001b[0m\u001b[1;33m=\u001b[0m\u001b[0mparams\u001b[0m\u001b[1;33m)\u001b[0m\u001b[1;33m\u001b[0m\u001b[0m\n\u001b[0m",
      "\u001b[0;32mC:\\Users\\Jerry Ajay\\AppData\\Local\\Programs\\Python\\Python36-32\\lib\\site-packages\\plotly\\api\\v2\\utils.py\u001b[0m in \u001b[0;36mrequest\u001b[0;34m(method, url, **kwargs)\u001b[0m\n\u001b[1;32m    152\u001b[0m         \u001b[1;32mraise\u001b[0m \u001b[0mexceptions\u001b[0m\u001b[1;33m.\u001b[0m\u001b[0mPlotlyRequestError\u001b[0m\u001b[1;33m(\u001b[0m\u001b[0mmessage\u001b[0m\u001b[1;33m,\u001b[0m \u001b[0mstatus_code\u001b[0m\u001b[1;33m,\u001b[0m \u001b[0mcontent\u001b[0m\u001b[1;33m)\u001b[0m\u001b[1;33m\u001b[0m\u001b[0m\n\u001b[0;32m--> 153\u001b[0;31m     \u001b[0mvalidate_response\u001b[0m\u001b[1;33m(\u001b[0m\u001b[0mresponse\u001b[0m\u001b[1;33m)\u001b[0m\u001b[1;33m\u001b[0m\u001b[0m\n\u001b[0m\u001b[1;32m    154\u001b[0m     \u001b[1;32mreturn\u001b[0m \u001b[0mresponse\u001b[0m\u001b[1;33m\u001b[0m\u001b[0m\n",
      "\u001b[0;32mC:\\Users\\Jerry Ajay\\AppData\\Local\\Programs\\Python\\Python36-32\\lib\\site-packages\\plotly\\api\\v2\\utils.py\u001b[0m in \u001b[0;36mvalidate_response\u001b[0;34m(response)\u001b[0m\n\u001b[1;32m     78\u001b[0m \u001b[1;33m\u001b[0m\u001b[0m\n\u001b[0;32m---> 79\u001b[0;31m     \u001b[1;32mraise\u001b[0m \u001b[0mexceptions\u001b[0m\u001b[1;33m.\u001b[0m\u001b[0mPlotlyRequestError\u001b[0m\u001b[1;33m(\u001b[0m\u001b[0mmessage\u001b[0m\u001b[1;33m,\u001b[0m \u001b[0mstatus_code\u001b[0m\u001b[1;33m,\u001b[0m \u001b[0mcontent\u001b[0m\u001b[1;33m)\u001b[0m\u001b[1;33m\u001b[0m\u001b[0m\n\u001b[0m\u001b[1;32m     80\u001b[0m \u001b[1;33m\u001b[0m\u001b[0m\n",
      "\u001b[0;31mPlotlyRequestError\u001b[0m: Not found.",
      "\nDuring handling of the above exception, another exception occurred:\n",
      "\u001b[0;31mPlotlyRequestError\u001b[0m                        Traceback (most recent call last)",
      "\u001b[0;32m<ipython-input-33-4077976bdb3e>\u001b[0m in \u001b[0;36m<module>\u001b[0;34m()\u001b[0m\n\u001b[1;32m      1\u001b[0m \u001b[1;32mimport\u001b[0m \u001b[0mplotly\u001b[0m\u001b[1;33m.\u001b[0m\u001b[0mplotly\u001b[0m \u001b[1;32mas\u001b[0m \u001b[0mpy\u001b[0m\u001b[1;33m\u001b[0m\u001b[0m\n\u001b[0;32m----> 2\u001b[0;31m \u001b[0mpy\u001b[0m\u001b[1;33m.\u001b[0m\u001b[0mdashboard_ops\u001b[0m\u001b[1;33m.\u001b[0m\u001b[0mupload\u001b[0m\u001b[1;33m(\u001b[0m\u001b[0mmy_dboard\u001b[0m\u001b[1;33m,\u001b[0m \u001b[1;34m'Dashboard for 3D Printing'\u001b[0m\u001b[1;33m)\u001b[0m\u001b[1;33m\u001b[0m\u001b[0m\n\u001b[0m",
      "\u001b[0;32mC:\\Users\\Jerry Ajay\\AppData\\Local\\Programs\\Python\\Python36-32\\lib\\site-packages\\plotly\\plotly\\plotly.py\u001b[0m in \u001b[0;36mupload\u001b[0;34m(cls, dashboard, filename, sharing, auto_open)\u001b[0m\n\u001b[1;32m   1461\u001b[0m \u001b[1;33m\u001b[0m\u001b[0m\n\u001b[1;32m   1462\u001b[0m         \u001b[1;32mexcept\u001b[0m \u001b[0mexceptions\u001b[0m\u001b[1;33m.\u001b[0m\u001b[0mPlotlyRequestError\u001b[0m\u001b[1;33m:\u001b[0m\u001b[1;33m\u001b[0m\u001b[0m\n\u001b[0;32m-> 1463\u001b[0;31m             \u001b[0mres\u001b[0m \u001b[1;33m=\u001b[0m \u001b[0mv2\u001b[0m\u001b[1;33m.\u001b[0m\u001b[0mdashboards\u001b[0m\u001b[1;33m.\u001b[0m\u001b[0mcreate\u001b[0m\u001b[1;33m(\u001b[0m\u001b[0mdata\u001b[0m\u001b[1;33m)\u001b[0m\u001b[1;33m\u001b[0m\u001b[0m\n\u001b[0m\u001b[1;32m   1464\u001b[0m         \u001b[0mres\u001b[0m\u001b[1;33m.\u001b[0m\u001b[0mraise_for_status\u001b[0m\u001b[1;33m(\u001b[0m\u001b[1;33m)\u001b[0m\u001b[1;33m\u001b[0m\u001b[0m\n\u001b[1;32m   1465\u001b[0m \u001b[1;33m\u001b[0m\u001b[0m\n",
      "\u001b[0;32mC:\\Users\\Jerry Ajay\\AppData\\Local\\Programs\\Python\\Python36-32\\lib\\site-packages\\plotly\\api\\v2\\dashboards.py\u001b[0m in \u001b[0;36mcreate\u001b[0;34m(body)\u001b[0m\n\u001b[1;32m     15\u001b[0m     \u001b[1;34m\"\"\"Create a dashboard.\"\"\"\u001b[0m\u001b[1;33m\u001b[0m\u001b[0m\n\u001b[1;32m     16\u001b[0m     \u001b[0murl\u001b[0m \u001b[1;33m=\u001b[0m \u001b[0mbuild_url\u001b[0m\u001b[1;33m(\u001b[0m\u001b[0mRESOURCE\u001b[0m\u001b[1;33m)\u001b[0m\u001b[1;33m\u001b[0m\u001b[0m\n\u001b[0;32m---> 17\u001b[0;31m     \u001b[1;32mreturn\u001b[0m \u001b[0mrequest\u001b[0m\u001b[1;33m(\u001b[0m\u001b[1;34m'post'\u001b[0m\u001b[1;33m,\u001b[0m \u001b[0murl\u001b[0m\u001b[1;33m,\u001b[0m \u001b[0mjson\u001b[0m\u001b[1;33m=\u001b[0m\u001b[0mbody\u001b[0m\u001b[1;33m)\u001b[0m\u001b[1;33m\u001b[0m\u001b[0m\n\u001b[0m\u001b[1;32m     18\u001b[0m \u001b[1;33m\u001b[0m\u001b[0m\n\u001b[1;32m     19\u001b[0m \u001b[1;33m\u001b[0m\u001b[0m\n",
      "\u001b[0;32mC:\\Users\\Jerry Ajay\\AppData\\Local\\Programs\\Python\\Python36-32\\lib\\site-packages\\plotly\\api\\v2\\utils.py\u001b[0m in \u001b[0;36mrequest\u001b[0;34m(method, url, **kwargs)\u001b[0m\n\u001b[1;32m    151\u001b[0m         \u001b[0mcontent\u001b[0m \u001b[1;33m=\u001b[0m \u001b[0mresponse\u001b[0m\u001b[1;33m.\u001b[0m\u001b[0mcontent\u001b[0m \u001b[1;32mif\u001b[0m \u001b[0mresponse\u001b[0m \u001b[1;32melse\u001b[0m \u001b[1;34m'No content'\u001b[0m\u001b[1;33m\u001b[0m\u001b[0m\n\u001b[1;32m    152\u001b[0m         \u001b[1;32mraise\u001b[0m \u001b[0mexceptions\u001b[0m\u001b[1;33m.\u001b[0m\u001b[0mPlotlyRequestError\u001b[0m\u001b[1;33m(\u001b[0m\u001b[0mmessage\u001b[0m\u001b[1;33m,\u001b[0m \u001b[0mstatus_code\u001b[0m\u001b[1;33m,\u001b[0m \u001b[0mcontent\u001b[0m\u001b[1;33m)\u001b[0m\u001b[1;33m\u001b[0m\u001b[0m\n\u001b[0;32m--> 153\u001b[0;31m     \u001b[0mvalidate_response\u001b[0m\u001b[1;33m(\u001b[0m\u001b[0mresponse\u001b[0m\u001b[1;33m)\u001b[0m\u001b[1;33m\u001b[0m\u001b[0m\n\u001b[0m\u001b[1;32m    154\u001b[0m     \u001b[1;32mreturn\u001b[0m \u001b[0mresponse\u001b[0m\u001b[1;33m\u001b[0m\u001b[0m\n",
      "\u001b[0;32mC:\\Users\\Jerry Ajay\\AppData\\Local\\Programs\\Python\\Python36-32\\lib\\site-packages\\plotly\\api\\v2\\utils.py\u001b[0m in \u001b[0;36mvalidate_response\u001b[0;34m(response)\u001b[0m\n\u001b[1;32m     77\u001b[0m         \u001b[0mmessage\u001b[0m \u001b[1;33m=\u001b[0m \u001b[0mcontent\u001b[0m \u001b[1;32mif\u001b[0m \u001b[0mcontent\u001b[0m \u001b[1;32melse\u001b[0m \u001b[1;34m'No Content'\u001b[0m\u001b[1;33m\u001b[0m\u001b[0m\n\u001b[1;32m     78\u001b[0m \u001b[1;33m\u001b[0m\u001b[0m\n\u001b[0;32m---> 79\u001b[0;31m     \u001b[1;32mraise\u001b[0m \u001b[0mexceptions\u001b[0m\u001b[1;33m.\u001b[0m\u001b[0mPlotlyRequestError\u001b[0m\u001b[1;33m(\u001b[0m\u001b[0mmessage\u001b[0m\u001b[1;33m,\u001b[0m \u001b[0mstatus_code\u001b[0m\u001b[1;33m,\u001b[0m \u001b[0mcontent\u001b[0m\u001b[1;33m)\u001b[0m\u001b[1;33m\u001b[0m\u001b[0m\n\u001b[0m\u001b[1;32m     80\u001b[0m \u001b[1;33m\u001b[0m\u001b[0m\n\u001b[1;32m     81\u001b[0m \u001b[1;33m\u001b[0m\u001b[0m\n",
      "\u001b[0;31mPlotlyRequestError\u001b[0m: {u'direction': u'vertical', u'sizeUnit': u'px', u'second': {u'boxType': u'empty', u'type': u'box'}, u'size': 1000, u'type': u'split', u'first': {u'direction': u'horizontal', u'sizeUnit': u'%', u'second': {u'boxType': u'plot', u'title': u'Collision or no collision streaming data', u'type': u'box', u'text': u'jerryant:25#plot'}, u'size': 50, u'type': u'split', u'first': {u'boxType': u'plot', u'title': u'3D Model Printing Progress', u'type': u'box', u'fileId': u'jerryant:18.embed'}}} is not valid under any of the given schemas\n\nFailed validating 'oneOf' in schema['properties']['layout']:\n    {'oneOf': [{'type': 'null'}, {'$ref': '#/definitions/container'}]}\n\nOn instance['layout']:\n    {u'direction': u'vertical',\n     u'first': {u'direction': u'horizontal',\n                u'first': {u'boxType': u'plot',\n                           u'fileId': u'jerryant:18.embed',\n                           u'title': u'3D Model Printing Progress',\n                           u'type': u'box'},\n                u'second': {u'boxType': u'plot',\n                            u'text': u'jerryant:25#plot',\n                            u'title': u'Collision or no collision streaming data',\n                            u'type': u'box'},\n                u'size': 50,\n                u'sizeUnit': u'%',\n                u'type': u'split'},\n     u'second': {u'boxType': u'empty', u'type': u'box'},\n     u'size': 1000,\n     u'sizeUnit': u'px',\n     u'type': u'split'}"
     ]
    }
   ],
   "source": [
    "import plotly.plotly as py\n",
    "py.dashboard_ops.upload(my_dboard, 'Dashboard for 3D Printing')"
   ]
  },
  {
   "cell_type": "code",
   "execution_count": 34,
   "metadata": {},
   "outputs": [
    {
     "data": {
      "text/plain": [
       "'jerryant:25'"
      ]
     },
     "execution_count": 34,
     "metadata": {},
     "output_type": "execute_result"
    }
   ],
   "source": [
    "fileId_2"
   ]
  },
  {
   "cell_type": "code",
   "execution_count": 35,
   "metadata": {},
   "outputs": [
    {
     "ename": "NameError",
     "evalue": "name 'stream_ids' is not defined",
     "output_type": "error",
     "traceback": [
      "\u001b[0;31m---------------------------------------------------------------------------\u001b[0m",
      "\u001b[0;31mNameError\u001b[0m                                 Traceback (most recent call last)",
      "\u001b[0;32m<ipython-input-35-857e9425e655>\u001b[0m in \u001b[0;36m<module>\u001b[0;34m()\u001b[0m\n\u001b[0;32m----> 1\u001b[0;31m \u001b[0mstream_ids\u001b[0m\u001b[1;33m\u001b[0m\u001b[0m\n\u001b[0m",
      "\u001b[0;31mNameError\u001b[0m: name 'stream_ids' is not defined"
     ]
    }
   ],
   "source": [
    "stream_ids"
   ]
  },
  {
   "cell_type": "code",
   "execution_count": null,
   "metadata": {
    "collapsed": true
   },
   "outputs": [],
   "source": []
  }
 ],
 "metadata": {
  "kernelspec": {
   "display_name": "Python 3",
   "language": "python",
   "name": "python3"
  },
  "language_info": {
   "codemirror_mode": {
    "name": "ipython",
    "version": 3
   },
   "file_extension": ".py",
   "mimetype": "text/x-python",
   "name": "python",
   "nbconvert_exporter": "python",
   "pygments_lexer": "ipython3",
   "version": "3.6.0"
  }
 },
 "nbformat": 4,
 "nbformat_minor": 2
}
